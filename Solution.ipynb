{
 "cells": [
  {
   "cell_type": "code",
   "execution_count": 300,
   "id": "87aea794",
   "metadata": {},
   "outputs": [],
   "source": [
    "import pandas as pd\n",
    "import numpy as np\n",
    "import seaborn as sns\n",
    "from matplotlib import pyplot as plt\n",
    "from sklearn import preprocessing\n",
    "\n",
    "\n",
    "import warnings\n",
    "warnings.filterwarnings('ignore')"
   ]
  },
  {
   "cell_type": "code",
   "execution_count": 301,
   "id": "bb50d2bb",
   "metadata": {},
   "outputs": [],
   "source": [
    "df = pd.read_excel('raw_response.xlsx')"
   ]
  },
  {
   "cell_type": "code",
   "execution_count": 302,
   "id": "bd24a4e7",
   "metadata": {},
   "outputs": [
    {
     "data": {
      "text/plain": [
       "(53, 29)"
      ]
     },
     "execution_count": 302,
     "metadata": {},
     "output_type": "execute_result"
    }
   ],
   "source": [
    "df.shape"
   ]
  },
  {
   "cell_type": "code",
   "execution_count": 303,
   "id": "dc18fa7b",
   "metadata": {},
   "outputs": [
    {
     "data": {
      "text/html": [
       "<div>\n",
       "<style scoped>\n",
       "    .dataframe tbody tr th:only-of-type {\n",
       "        vertical-align: middle;\n",
       "    }\n",
       "\n",
       "    .dataframe tbody tr th {\n",
       "        vertical-align: top;\n",
       "    }\n",
       "\n",
       "    .dataframe thead th {\n",
       "        text-align: right;\n",
       "    }\n",
       "</style>\n",
       "<table border=\"1\" class=\"dataframe\">\n",
       "  <thead>\n",
       "    <tr style=\"text-align: right;\">\n",
       "      <th></th>\n",
       "      <th>id</th>\n",
       "      <th>feeTier</th>\n",
       "      <th>liquidity</th>\n",
       "      <th>sqrtPrice</th>\n",
       "      <th>tick</th>\n",
       "      <th>token0</th>\n",
       "      <th>Unnamed: 6</th>\n",
       "      <th>Unnamed: 7</th>\n",
       "      <th>Unnamed: 8</th>\n",
       "      <th>Unnamed: 9</th>\n",
       "      <th>...</th>\n",
       "      <th>volumeUSD</th>\n",
       "      <th>volumeToken0</th>\n",
       "      <th>volumeToken1</th>\n",
       "      <th>txCount</th>\n",
       "      <th>totalValueLockedToken0</th>\n",
       "      <th>totalValueLockedToken1</th>\n",
       "      <th>totalValueLockedUSD</th>\n",
       "      <th>__typename</th>\n",
       "      <th>bundles</th>\n",
       "      <th>Unnamed: 28</th>\n",
       "    </tr>\n",
       "  </thead>\n",
       "  <tbody>\n",
       "    <tr>\n",
       "      <th>0</th>\n",
       "      <td>NaN</td>\n",
       "      <td>NaN</td>\n",
       "      <td>NaN</td>\n",
       "      <td>NaN</td>\n",
       "      <td>NaN</td>\n",
       "      <td>id</td>\n",
       "      <td>symbol</td>\n",
       "      <td>name</td>\n",
       "      <td>decimals</td>\n",
       "      <td>derivedETH</td>\n",
       "      <td>...</td>\n",
       "      <td>NaN</td>\n",
       "      <td>NaN</td>\n",
       "      <td>NaN</td>\n",
       "      <td>NaN</td>\n",
       "      <td>NaN</td>\n",
       "      <td>NaN</td>\n",
       "      <td>NaN</td>\n",
       "      <td>NaN</td>\n",
       "      <td>ethPriceUSD</td>\n",
       "      <td>__typename</td>\n",
       "    </tr>\n",
       "    <tr>\n",
       "      <th>1</th>\n",
       "      <td>0x277667eb3e34f134adf870be9550e9f323d0dc24</td>\n",
       "      <td>100.0</td>\n",
       "      <td>313521001529099829406</td>\n",
       "      <td>24804888246164192931094329</td>\n",
       "      <td>-161389.0</td>\n",
       "      <td>0x160de4468586b6b2f8a92feb0c260fc6cfc743b1</td>\n",
       "      <td>ease.org</td>\n",
       "      <td>Ease Fun Token</td>\n",
       "      <td>18</td>\n",
       "      <td>833.2528589260775996459425809724284</td>\n",
       "      <td>...</td>\n",
       "      <td>0.0</td>\n",
       "      <td>1.000000e-06</td>\n",
       "      <td>9.890000e-14</td>\n",
       "      <td>4.0</td>\n",
       "      <td>1.001400e+06</td>\n",
       "      <td>9.815769e-02</td>\n",
       "      <td>1.110167e+12</td>\n",
       "      <td>Pool</td>\n",
       "      <td>NaN</td>\n",
       "      <td>NaN</td>\n",
       "    </tr>\n",
       "    <tr>\n",
       "      <th>2</th>\n",
       "      <td>0xa850478adaace4c08fc61de44d8cf3b64f359bec</td>\n",
       "      <td>500.0</td>\n",
       "      <td>1706245281880037395956227425</td>\n",
       "      <td>792049440195001924670217089101</td>\n",
       "      <td>46048.0</td>\n",
       "      <td>0x12b32f10a499bf40db334efe04226cca00bf2d9b</td>\n",
       "      <td>UMIIE</td>\n",
       "      <td>UMIIE COIN</td>\n",
       "      <td>18</td>\n",
       "      <td>0.09982560487030552703214533918310228</td>\n",
       "      <td>...</td>\n",
       "      <td>0.0</td>\n",
       "      <td>1.000103e+06</td>\n",
       "      <td>9.993099e+07</td>\n",
       "      <td>9.0</td>\n",
       "      <td>5.005048e+07</td>\n",
       "      <td>1.464468e+10</td>\n",
       "      <td>1.288763e+10</td>\n",
       "      <td>Pool</td>\n",
       "      <td>1609.287053048210800355547356697953</td>\n",
       "      <td>Bundle</td>\n",
       "    </tr>\n",
       "    <tr>\n",
       "      <th>3</th>\n",
       "      <td>0x8c0411f2ad5470a66cb2e9c64536cfb8dcd54d51</td>\n",
       "      <td>100.0</td>\n",
       "      <td>40740981393984479118</td>\n",
       "      <td>2480490093522240539905180837</td>\n",
       "      <td>-69281.0</td>\n",
       "      <td>0x160de4468586b6b2f8a92feb0c260fc6cfc743b1</td>\n",
       "      <td>ease.org</td>\n",
       "      <td>Ease Fun Token</td>\n",
       "      <td>18</td>\n",
       "      <td>833.2528589260775996459425809724284</td>\n",
       "      <td>...</td>\n",
       "      <td>0.0</td>\n",
       "      <td>1.000000e-06</td>\n",
       "      <td>9.899036e-10</td>\n",
       "      <td>3.0</td>\n",
       "      <td>1.300000e+03</td>\n",
       "      <td>1.275526e+00</td>\n",
       "      <td>1.432077e+09</td>\n",
       "      <td>Pool</td>\n",
       "      <td>NaN</td>\n",
       "      <td>NaN</td>\n",
       "    </tr>\n",
       "    <tr>\n",
       "      <th>4</th>\n",
       "      <td>0x055284a4ca6532ecc219ac06b577d540c686669d</td>\n",
       "      <td>100.0</td>\n",
       "      <td>0</td>\n",
       "      <td>0</td>\n",
       "      <td>NaN</td>\n",
       "      <td>0x160de4468586b6b2f8a92feb0c260fc6cfc743b1</td>\n",
       "      <td>ease.org</td>\n",
       "      <td>Ease Fun Token</td>\n",
       "      <td>18</td>\n",
       "      <td>833.2528589260775996459425809724284</td>\n",
       "      <td>...</td>\n",
       "      <td>0.0</td>\n",
       "      <td>0.000000e+00</td>\n",
       "      <td>0.000000e+00</td>\n",
       "      <td>2.0</td>\n",
       "      <td>1.200001e+03</td>\n",
       "      <td>1.199880e-11</td>\n",
       "      <td>1.322031e+09</td>\n",
       "      <td>Pool</td>\n",
       "      <td>NaN</td>\n",
       "      <td>NaN</td>\n",
       "    </tr>\n",
       "  </tbody>\n",
       "</table>\n",
       "<p>5 rows × 29 columns</p>\n",
       "</div>"
      ],
      "text/plain": [
       "                                           id  feeTier  \\\n",
       "0                                         NaN      NaN   \n",
       "1  0x277667eb3e34f134adf870be9550e9f323d0dc24    100.0   \n",
       "2  0xa850478adaace4c08fc61de44d8cf3b64f359bec    500.0   \n",
       "3  0x8c0411f2ad5470a66cb2e9c64536cfb8dcd54d51    100.0   \n",
       "4  0x055284a4ca6532ecc219ac06b577d540c686669d    100.0   \n",
       "\n",
       "                      liquidity                       sqrtPrice      tick  \\\n",
       "0                           NaN                             NaN       NaN   \n",
       "1         313521001529099829406      24804888246164192931094329 -161389.0   \n",
       "2  1706245281880037395956227425  792049440195001924670217089101   46048.0   \n",
       "3          40740981393984479118    2480490093522240539905180837  -69281.0   \n",
       "4                             0                               0       NaN   \n",
       "\n",
       "                                       token0 Unnamed: 6      Unnamed: 7  \\\n",
       "0                                          id     symbol            name   \n",
       "1  0x160de4468586b6b2f8a92feb0c260fc6cfc743b1   ease.org  Ease Fun Token   \n",
       "2  0x12b32f10a499bf40db334efe04226cca00bf2d9b      UMIIE      UMIIE COIN   \n",
       "3  0x160de4468586b6b2f8a92feb0c260fc6cfc743b1   ease.org  Ease Fun Token   \n",
       "4  0x160de4468586b6b2f8a92feb0c260fc6cfc743b1   ease.org  Ease Fun Token   \n",
       "\n",
       "  Unnamed: 8                             Unnamed: 9  ... volumeUSD  \\\n",
       "0   decimals                             derivedETH  ...       NaN   \n",
       "1         18    833.2528589260775996459425809724284  ...       0.0   \n",
       "2         18  0.09982560487030552703214533918310228  ...       0.0   \n",
       "3         18    833.2528589260775996459425809724284  ...       0.0   \n",
       "4         18    833.2528589260775996459425809724284  ...       0.0   \n",
       "\n",
       "   volumeToken0  volumeToken1 txCount totalValueLockedToken0  \\\n",
       "0           NaN           NaN     NaN                    NaN   \n",
       "1  1.000000e-06  9.890000e-14     4.0           1.001400e+06   \n",
       "2  1.000103e+06  9.993099e+07     9.0           5.005048e+07   \n",
       "3  1.000000e-06  9.899036e-10     3.0           1.300000e+03   \n",
       "4  0.000000e+00  0.000000e+00     2.0           1.200001e+03   \n",
       "\n",
       "  totalValueLockedToken1 totalValueLockedUSD  __typename  \\\n",
       "0                    NaN                 NaN         NaN   \n",
       "1           9.815769e-02        1.110167e+12        Pool   \n",
       "2           1.464468e+10        1.288763e+10        Pool   \n",
       "3           1.275526e+00        1.432077e+09        Pool   \n",
       "4           1.199880e-11        1.322031e+09        Pool   \n",
       "\n",
       "                               bundles  Unnamed: 28  \n",
       "0                          ethPriceUSD   __typename  \n",
       "1                                  NaN          NaN  \n",
       "2  1609.287053048210800355547356697953       Bundle  \n",
       "3                                  NaN          NaN  \n",
       "4                                  NaN          NaN  \n",
       "\n",
       "[5 rows x 29 columns]"
      ]
     },
     "execution_count": 303,
     "metadata": {},
     "output_type": "execute_result"
    }
   ],
   "source": [
    "df.head(5)"
   ]
  },
  {
   "cell_type": "code",
   "execution_count": 304,
   "id": "a54b9707",
   "metadata": {},
   "outputs": [],
   "source": [
    "#First row is not needed in our current operations . delete it"
   ]
  },
  {
   "cell_type": "code",
   "execution_count": 305,
   "id": "b0242826",
   "metadata": {},
   "outputs": [],
   "source": [
    "df = df.drop(labels=0, axis=0)"
   ]
  },
  {
   "cell_type": "code",
   "execution_count": 306,
   "id": "dd14cab7",
   "metadata": {},
   "outputs": [
    {
     "data": {
      "text/html": [
       "<div>\n",
       "<style scoped>\n",
       "    .dataframe tbody tr th:only-of-type {\n",
       "        vertical-align: middle;\n",
       "    }\n",
       "\n",
       "    .dataframe tbody tr th {\n",
       "        vertical-align: top;\n",
       "    }\n",
       "\n",
       "    .dataframe thead th {\n",
       "        text-align: right;\n",
       "    }\n",
       "</style>\n",
       "<table border=\"1\" class=\"dataframe\">\n",
       "  <thead>\n",
       "    <tr style=\"text-align: right;\">\n",
       "      <th></th>\n",
       "      <th>id</th>\n",
       "      <th>feeTier</th>\n",
       "      <th>liquidity</th>\n",
       "      <th>sqrtPrice</th>\n",
       "      <th>tick</th>\n",
       "      <th>token0</th>\n",
       "      <th>Unnamed: 6</th>\n",
       "      <th>Unnamed: 7</th>\n",
       "      <th>Unnamed: 8</th>\n",
       "      <th>Unnamed: 9</th>\n",
       "      <th>...</th>\n",
       "      <th>volumeUSD</th>\n",
       "      <th>volumeToken0</th>\n",
       "      <th>volumeToken1</th>\n",
       "      <th>txCount</th>\n",
       "      <th>totalValueLockedToken0</th>\n",
       "      <th>totalValueLockedToken1</th>\n",
       "      <th>totalValueLockedUSD</th>\n",
       "      <th>__typename</th>\n",
       "      <th>bundles</th>\n",
       "      <th>Unnamed: 28</th>\n",
       "    </tr>\n",
       "  </thead>\n",
       "  <tbody>\n",
       "    <tr>\n",
       "      <th>1</th>\n",
       "      <td>0x277667eb3e34f134adf870be9550e9f323d0dc24</td>\n",
       "      <td>100.0</td>\n",
       "      <td>313521001529099829406</td>\n",
       "      <td>24804888246164192931094329</td>\n",
       "      <td>-161389.0</td>\n",
       "      <td>0x160de4468586b6b2f8a92feb0c260fc6cfc743b1</td>\n",
       "      <td>ease.org</td>\n",
       "      <td>Ease Fun Token</td>\n",
       "      <td>18</td>\n",
       "      <td>833.2528589260775996459425809724284</td>\n",
       "      <td>...</td>\n",
       "      <td>0.000000e+00</td>\n",
       "      <td>1.000000e-06</td>\n",
       "      <td>9.890000e-14</td>\n",
       "      <td>4.0</td>\n",
       "      <td>1.001400e+06</td>\n",
       "      <td>9.815769e-02</td>\n",
       "      <td>1.110167e+12</td>\n",
       "      <td>Pool</td>\n",
       "      <td>NaN</td>\n",
       "      <td>NaN</td>\n",
       "    </tr>\n",
       "    <tr>\n",
       "      <th>2</th>\n",
       "      <td>0xa850478adaace4c08fc61de44d8cf3b64f359bec</td>\n",
       "      <td>500.0</td>\n",
       "      <td>1706245281880037395956227425</td>\n",
       "      <td>792049440195001924670217089101</td>\n",
       "      <td>46048.0</td>\n",
       "      <td>0x12b32f10a499bf40db334efe04226cca00bf2d9b</td>\n",
       "      <td>UMIIE</td>\n",
       "      <td>UMIIE COIN</td>\n",
       "      <td>18</td>\n",
       "      <td>0.09982560487030552703214533918310228</td>\n",
       "      <td>...</td>\n",
       "      <td>0.000000e+00</td>\n",
       "      <td>1.000103e+06</td>\n",
       "      <td>9.993099e+07</td>\n",
       "      <td>9.0</td>\n",
       "      <td>5.005048e+07</td>\n",
       "      <td>1.464468e+10</td>\n",
       "      <td>1.288763e+10</td>\n",
       "      <td>Pool</td>\n",
       "      <td>1609.287053048210800355547356697953</td>\n",
       "      <td>Bundle</td>\n",
       "    </tr>\n",
       "    <tr>\n",
       "      <th>3</th>\n",
       "      <td>0x8c0411f2ad5470a66cb2e9c64536cfb8dcd54d51</td>\n",
       "      <td>100.0</td>\n",
       "      <td>40740981393984479118</td>\n",
       "      <td>2480490093522240539905180837</td>\n",
       "      <td>-69281.0</td>\n",
       "      <td>0x160de4468586b6b2f8a92feb0c260fc6cfc743b1</td>\n",
       "      <td>ease.org</td>\n",
       "      <td>Ease Fun Token</td>\n",
       "      <td>18</td>\n",
       "      <td>833.2528589260775996459425809724284</td>\n",
       "      <td>...</td>\n",
       "      <td>0.000000e+00</td>\n",
       "      <td>1.000000e-06</td>\n",
       "      <td>9.899036e-10</td>\n",
       "      <td>3.0</td>\n",
       "      <td>1.300000e+03</td>\n",
       "      <td>1.275526e+00</td>\n",
       "      <td>1.432077e+09</td>\n",
       "      <td>Pool</td>\n",
       "      <td>NaN</td>\n",
       "      <td>NaN</td>\n",
       "    </tr>\n",
       "    <tr>\n",
       "      <th>4</th>\n",
       "      <td>0x055284a4ca6532ecc219ac06b577d540c686669d</td>\n",
       "      <td>100.0</td>\n",
       "      <td>0</td>\n",
       "      <td>0</td>\n",
       "      <td>NaN</td>\n",
       "      <td>0x160de4468586b6b2f8a92feb0c260fc6cfc743b1</td>\n",
       "      <td>ease.org</td>\n",
       "      <td>Ease Fun Token</td>\n",
       "      <td>18</td>\n",
       "      <td>833.2528589260775996459425809724284</td>\n",
       "      <td>...</td>\n",
       "      <td>0.000000e+00</td>\n",
       "      <td>0.000000e+00</td>\n",
       "      <td>0.000000e+00</td>\n",
       "      <td>2.0</td>\n",
       "      <td>1.200001e+03</td>\n",
       "      <td>1.199880e-11</td>\n",
       "      <td>1.322031e+09</td>\n",
       "      <td>Pool</td>\n",
       "      <td>NaN</td>\n",
       "      <td>NaN</td>\n",
       "    </tr>\n",
       "    <tr>\n",
       "      <th>5</th>\n",
       "      <td>0x88e6a0c2ddd26feeb64f039a2c41296fcb3f5640</td>\n",
       "      <td>500.0</td>\n",
       "      <td>32666062015717520660</td>\n",
       "      <td>1943521180155365744925605444716517</td>\n",
       "      <td>202163.0</td>\n",
       "      <td>0xa0b86991c6218b36c1d19d4a2e9eb0ce3606eb48</td>\n",
       "      <td>USDC</td>\n",
       "      <td>USD Coin</td>\n",
       "      <td>6</td>\n",
       "      <td>0.0006015032979037797759209813119597668</td>\n",
       "      <td>...</td>\n",
       "      <td>3.390727e+11</td>\n",
       "      <td>3.390459e+11</td>\n",
       "      <td>1.593252e+08</td>\n",
       "      <td>4402198.0</td>\n",
       "      <td>2.203507e+08</td>\n",
       "      <td>8.810010e+04</td>\n",
       "      <td>3.668173e+08</td>\n",
       "      <td>Pool</td>\n",
       "      <td>NaN</td>\n",
       "      <td>NaN</td>\n",
       "    </tr>\n",
       "  </tbody>\n",
       "</table>\n",
       "<p>5 rows × 29 columns</p>\n",
       "</div>"
      ],
      "text/plain": [
       "                                           id  feeTier  \\\n",
       "1  0x277667eb3e34f134adf870be9550e9f323d0dc24    100.0   \n",
       "2  0xa850478adaace4c08fc61de44d8cf3b64f359bec    500.0   \n",
       "3  0x8c0411f2ad5470a66cb2e9c64536cfb8dcd54d51    100.0   \n",
       "4  0x055284a4ca6532ecc219ac06b577d540c686669d    100.0   \n",
       "5  0x88e6a0c2ddd26feeb64f039a2c41296fcb3f5640    500.0   \n",
       "\n",
       "                      liquidity                           sqrtPrice      tick  \\\n",
       "1         313521001529099829406          24804888246164192931094329 -161389.0   \n",
       "2  1706245281880037395956227425      792049440195001924670217089101   46048.0   \n",
       "3          40740981393984479118        2480490093522240539905180837  -69281.0   \n",
       "4                             0                                   0       NaN   \n",
       "5          32666062015717520660  1943521180155365744925605444716517  202163.0   \n",
       "\n",
       "                                       token0 Unnamed: 6      Unnamed: 7  \\\n",
       "1  0x160de4468586b6b2f8a92feb0c260fc6cfc743b1   ease.org  Ease Fun Token   \n",
       "2  0x12b32f10a499bf40db334efe04226cca00bf2d9b      UMIIE      UMIIE COIN   \n",
       "3  0x160de4468586b6b2f8a92feb0c260fc6cfc743b1   ease.org  Ease Fun Token   \n",
       "4  0x160de4468586b6b2f8a92feb0c260fc6cfc743b1   ease.org  Ease Fun Token   \n",
       "5  0xa0b86991c6218b36c1d19d4a2e9eb0ce3606eb48       USDC        USD Coin   \n",
       "\n",
       "  Unnamed: 8                               Unnamed: 9  ...     volumeUSD  \\\n",
       "1         18      833.2528589260775996459425809724284  ...  0.000000e+00   \n",
       "2         18    0.09982560487030552703214533918310228  ...  0.000000e+00   \n",
       "3         18      833.2528589260775996459425809724284  ...  0.000000e+00   \n",
       "4         18      833.2528589260775996459425809724284  ...  0.000000e+00   \n",
       "5          6  0.0006015032979037797759209813119597668  ...  3.390727e+11   \n",
       "\n",
       "   volumeToken0  volumeToken1    txCount totalValueLockedToken0  \\\n",
       "1  1.000000e-06  9.890000e-14        4.0           1.001400e+06   \n",
       "2  1.000103e+06  9.993099e+07        9.0           5.005048e+07   \n",
       "3  1.000000e-06  9.899036e-10        3.0           1.300000e+03   \n",
       "4  0.000000e+00  0.000000e+00        2.0           1.200001e+03   \n",
       "5  3.390459e+11  1.593252e+08  4402198.0           2.203507e+08   \n",
       "\n",
       "  totalValueLockedToken1 totalValueLockedUSD  __typename  \\\n",
       "1           9.815769e-02        1.110167e+12        Pool   \n",
       "2           1.464468e+10        1.288763e+10        Pool   \n",
       "3           1.275526e+00        1.432077e+09        Pool   \n",
       "4           1.199880e-11        1.322031e+09        Pool   \n",
       "5           8.810010e+04        3.668173e+08        Pool   \n",
       "\n",
       "                               bundles  Unnamed: 28  \n",
       "1                                  NaN          NaN  \n",
       "2  1609.287053048210800355547356697953       Bundle  \n",
       "3                                  NaN          NaN  \n",
       "4                                  NaN          NaN  \n",
       "5                                  NaN          NaN  \n",
       "\n",
       "[5 rows x 29 columns]"
      ]
     },
     "execution_count": 306,
     "metadata": {},
     "output_type": "execute_result"
    }
   ],
   "source": [
    "df.head(5)"
   ]
  },
  {
   "cell_type": "markdown",
   "id": "ac90c913",
   "metadata": {},
   "source": [
    "Variables of interest to us are tick, totalvaluelockedUSD and liquidity"
   ]
  },
  {
   "cell_type": "markdown",
   "id": "397a396d",
   "metadata": {},
   "source": [
    "In Uniswap v3, the contract\n",
    "could be thought of as having virtual reserves—values for 𝑥 and 𝑦\n",
    "that allow you to describe the contract’s behavior (between two\n",
    "adjacent ticks) as if it followed the constant product formula.\n",
    "Instead of tracking those virtual reserves, however, the pool\n",
    "contract tracks two different values: liquidity (𝐿) and sqrtPrice\n",
    "(√𝑃). (Source : Uniswap v3 whitepaper)"
   ]
  },
  {
   "cell_type": "code",
   "execution_count": 307,
   "id": "9c11c6bf",
   "metadata": {},
   "outputs": [
    {
     "data": {
      "text/plain": [
       "-276330.0    2\n",
       "-276325.0    2\n",
       "-7723.0      1\n",
       "-74113.0     1\n",
       " 23027.0     1\n",
       "-94887.0     1\n",
       "-27273.0     1\n",
       "-275666.0    1\n",
       "-280460.0    1\n",
       "-73977.0     1\n",
       "-1.0         1\n",
       " 89617.0     1\n",
       "-186635.0    1\n",
       "-161389.0    1\n",
       "-64150.0     1\n",
       " 35618.0     1\n",
       "-276341.0    1\n",
       "-64238.0     1\n",
       " 299224.0    1\n",
       " 202073.0    1\n",
       " 66.0        1\n",
       " 24937.0     1\n",
       "-186683.0    1\n",
       "-124874.0    1\n",
       "-74171.0     1\n",
       "-5.0         1\n",
       "-56849.0     1\n",
       " 36.0        1\n",
       "-69281.0     1\n",
       " 202163.0    1\n",
       " 202159.0    1\n",
       " 257133.0    1\n",
       "-276322.0    1\n",
       "-2.0         1\n",
       "-202160.0    1\n",
       " 257122.0    1\n",
       " 0.0         1\n",
       " 54967.0     1\n",
       " 46048.0     1\n",
       "-202167.0    1\n",
       "-74168.0     1\n",
       "-54703.0     1\n",
       " 202164.0    1\n",
       "-53808.0     1\n",
       "-70855.0     1\n",
       "-79120.0     1\n",
       " 3.0         1\n",
       " 215346.0    1\n",
       " 887271.0    1\n",
       "Name: tick, dtype: int64"
      ]
     },
     "execution_count": 307,
     "metadata": {},
     "output_type": "execute_result"
    }
   ],
   "source": [
    "df['tick'].value_counts()"
   ]
  },
  {
   "cell_type": "code",
   "execution_count": 308,
   "id": "644c683e",
   "metadata": {},
   "outputs": [
    {
     "data": {
      "text/plain": [
       "1.110167e+12    1\n",
       "1.288763e+10    1\n",
       "1.797460e+07    1\n",
       "1.691215e+07    1\n",
       "1.668738e+07    1\n",
       "1.606678e+07    1\n",
       "1.506833e+07    1\n",
       "1.401336e+07    1\n",
       "1.371775e+07    1\n",
       "1.333065e+07    1\n",
       "1.312034e+07    1\n",
       "1.272577e+07    1\n",
       "1.268783e+07    1\n",
       "1.243912e+07    1\n",
       "1.240256e+07    1\n",
       "1.093410e+07    1\n",
       "1.058507e+07    1\n",
       "1.012706e+07    1\n",
       "1.005190e+07    1\n",
       "9.366314e+06    1\n",
       "8.877276e+06    1\n",
       "8.642933e+06    1\n",
       "8.180878e+06    1\n",
       "7.822880e+06    1\n",
       "2.063163e+04    1\n",
       "1.809407e+07    1\n",
       "1.921483e+07    1\n",
       "2.045014e+07    1\n",
       "9.999921e+07    1\n",
       "1.432077e+09    1\n",
       "1.322031e+09    1\n",
       "3.668173e+08    1\n",
       "3.510611e+08    1\n",
       "2.580080e+08    1\n",
       "2.323919e+08    1\n",
       "2.034240e+08    1\n",
       "1.491144e+08    1\n",
       "1.447731e+08    1\n",
       "1.444267e+08    1\n",
       "9.692921e+07    1\n",
       "2.109340e+07    1\n",
       "6.926745e+07    1\n",
       "5.565004e+07    1\n",
       "5.257668e+07    1\n",
       "5.091269e+07    1\n",
       "4.600181e+07    1\n",
       "3.308418e+07    1\n",
       "3.204440e+07    1\n",
       "2.657542e+07    1\n",
       "2.637667e+07    1\n",
       "2.177096e+07    1\n",
       "9.160086e+00    1\n",
       "Name: totalValueLockedUSD, dtype: int64"
      ]
     },
     "execution_count": 308,
     "metadata": {},
     "output_type": "execute_result"
    }
   ],
   "source": [
    "df['totalValueLockedUSD'].value_counts()"
   ]
  },
  {
   "cell_type": "code",
   "execution_count": 309,
   "id": "5d874f2d",
   "metadata": {},
   "outputs": [
    {
     "data": {
      "text/plain": [
       "1            313521001529099829406\n",
       "2     1706245281880037395956227425\n",
       "3             40740981393984479118\n",
       "4                                0\n",
       "5             32666062015717520660\n",
       "6             11313240145499630805\n",
       "7              2307414582084811903\n",
       "8        1152448374734298514689457\n",
       "9         200060688131258591913525\n",
       "10              949076635200445631\n",
       "11             4229054078423962897\n",
       "12             1215320564518773963\n",
       "13              100030202059901997\n",
       "14         17343302515472834714831\n",
       "15      12902268534214762145168862\n",
       "16                   3822298771383\n",
       "17             2880664566297975714\n",
       "18       1007630611160079599541700\n",
       "19        935129463094802500900708\n",
       "20             2131925582970069501\n",
       "21       2084381505510565260753011\n",
       "22       2785888021951905660931987\n",
       "23        414229171751248874207100\n",
       "24    4195542518953324596954163127\n",
       "25    1059630382764831648131867914\n",
       "26               22137378638661446\n",
       "27        567263512282923430733469\n",
       "28        402492456132139212886232\n",
       "29        613158920780907000974176\n",
       "30                 185517451486731\n",
       "31     632471412699428171024177152\n",
       "32                               0\n",
       "33         63794125488852506895390\n",
       "34           229847445767055955826\n",
       "35             8332448719551320196\n",
       "36        526385978472996221448467\n",
       "37      10005000800029997800038009\n",
       "38        415627092933236723892868\n",
       "39      25197212044027123604135987\n",
       "40          6515107585166109428935\n",
       "41         32871470528854460174042\n",
       "42           546751494844807590906\n",
       "43        165460617587505010601098\n",
       "44            46259139346298173734\n",
       "45         10003648886100921765758\n",
       "46               60130650288444206\n",
       "47        654282439326356069745446\n",
       "48      23051425209323556248493505\n",
       "49     188962637413555730158719078\n",
       "50          6965877171708104465551\n",
       "51               80986876779066185\n",
       "52                               0\n",
       "Name: liquidity, dtype: object"
      ]
     },
     "execution_count": 309,
     "metadata": {},
     "output_type": "execute_result"
    }
   ],
   "source": [
    "df['liquidity']"
   ]
  },
  {
   "cell_type": "code",
   "execution_count": 310,
   "id": "b4eecc85",
   "metadata": {},
   "outputs": [
    {
     "data": {
      "text/plain": [
       "0                               3\n",
       "313521001529099829406           1\n",
       "6515107585166109428935          1\n",
       "613158920780907000974176        1\n",
       "185517451486731                 1\n",
       "632471412699428171024177152     1\n",
       "63794125488852506895390         1\n",
       "229847445767055955826           1\n",
       "8332448719551320196             1\n",
       "526385978472996221448467        1\n",
       "10005000800029997800038009      1\n",
       "415627092933236723892868        1\n",
       "25197212044027123604135987      1\n",
       "32871470528854460174042         1\n",
       "567263512282923430733469        1\n",
       "546751494844807590906           1\n",
       "165460617587505010601098        1\n",
       "46259139346298173734            1\n",
       "10003648886100921765758         1\n",
       "60130650288444206               1\n",
       "654282439326356069745446        1\n",
       "23051425209323556248493505      1\n",
       "188962637413555730158719078     1\n",
       "6965877171708104465551          1\n",
       "402492456132139212886232        1\n",
       "22137378638661446               1\n",
       "1706245281880037395956227425    1\n",
       "1059630382764831648131867914    1\n",
       "40740981393984479118            1\n",
       "32666062015717520660            1\n",
       "11313240145499630805            1\n",
       "2307414582084811903             1\n",
       "1152448374734298514689457       1\n",
       "200060688131258591913525        1\n",
       "949076635200445631              1\n",
       "4229054078423962897             1\n",
       "1215320564518773963             1\n",
       "100030202059901997              1\n",
       "17343302515472834714831         1\n",
       "12902268534214762145168862      1\n",
       "3822298771383                   1\n",
       "2880664566297975714             1\n",
       "1007630611160079599541700       1\n",
       "935129463094802500900708        1\n",
       "2131925582970069501             1\n",
       "2084381505510565260753011       1\n",
       "2785888021951905660931987       1\n",
       "414229171751248874207100        1\n",
       "4195542518953324596954163127    1\n",
       "80986876779066185               1\n",
       "Name: liquidity, dtype: int64"
      ]
     },
     "execution_count": 310,
     "metadata": {},
     "output_type": "execute_result"
    }
   ],
   "source": [
    "df['liquidity'].value_counts()"
   ]
  },
  {
   "cell_type": "code",
   "execution_count": 311,
   "id": "b5d6a43b",
   "metadata": {},
   "outputs": [
    {
     "name": "stdout",
     "output_type": "stream",
     "text": [
      "<class 'pandas.core.frame.DataFrame'>\n",
      "RangeIndex: 52 entries, 1 to 52\n",
      "Data columns (total 29 columns):\n",
      " #   Column                  Non-Null Count  Dtype  \n",
      "---  ------                  --------------  -----  \n",
      " 0   id                      52 non-null     object \n",
      " 1   feeTier                 52 non-null     float64\n",
      " 2   liquidity               52 non-null     object \n",
      " 3   sqrtPrice               52 non-null     object \n",
      " 4   tick                    51 non-null     float64\n",
      " 5   token0                  52 non-null     object \n",
      " 6   Unnamed: 6              52 non-null     object \n",
      " 7   Unnamed: 7              52 non-null     object \n",
      " 8   Unnamed: 8              52 non-null     object \n",
      " 9   Unnamed: 9              52 non-null     object \n",
      " 10  Unnamed: 10             52 non-null     object \n",
      " 11  token1                  52 non-null     object \n",
      " 12  Unnamed: 12             52 non-null     object \n",
      " 13  Unnamed: 13             52 non-null     object \n",
      " 14  Unnamed: 14             52 non-null     object \n",
      " 15  Unnamed: 15             52 non-null     object \n",
      " 16  Unnamed: 16             52 non-null     object \n",
      " 17  token0Price             52 non-null     float64\n",
      " 18  token1Price             52 non-null     object \n",
      " 19  volumeUSD               52 non-null     float64\n",
      " 20  volumeToken0            52 non-null     float64\n",
      " 21  volumeToken1            52 non-null     float64\n",
      " 22  txCount                 52 non-null     float64\n",
      " 23  totalValueLockedToken0  52 non-null     float64\n",
      " 24  totalValueLockedToken1  52 non-null     float64\n",
      " 25  totalValueLockedUSD     52 non-null     float64\n",
      " 26  __typename              52 non-null     object \n",
      " 27  bundles                 1 non-null      object \n",
      " 28  Unnamed: 28             1 non-null      object \n",
      "dtypes: float64(10), object(19)\n",
      "memory usage: 11.9+ KB\n"
     ]
    }
   ],
   "source": [
    "df.info()"
   ]
  },
  {
   "cell_type": "markdown",
   "id": "c54e2b0d",
   "metadata": {},
   "source": [
    "Renaming the columns which are unnamed . \n",
    "t0 stands for token0\n",
    "t1 stands for token1 "
   ]
  },
  {
   "cell_type": "code",
   "execution_count": 312,
   "id": "c477d09c",
   "metadata": {},
   "outputs": [],
   "source": [
    "df = df.rename(columns={'token0': 't0_id', 'Unnamed: 6':'t0_symbol','Unnamed: 7':'t0_name','Unnamed: 9':'t0_derivedETH'})"
   ]
  },
  {
   "cell_type": "code",
   "execution_count": 313,
   "id": "9e2cb2d9",
   "metadata": {},
   "outputs": [],
   "source": [
    "df = df.rename(columns={'Unnamed: 8':'t0_decimals','Unnamed: 10':'t0_typename'})"
   ]
  },
  {
   "cell_type": "code",
   "execution_count": 314,
   "id": "0255ed2b",
   "metadata": {},
   "outputs": [],
   "source": [
    "df = df.rename(columns={'token1': 't1_id', 'Unnamed: 12':'t1_symbol','Unnamed: 13':'t1_name','Unnamed: 14':'t1_derivedETH'})"
   ]
  },
  {
   "cell_type": "code",
   "execution_count": 315,
   "id": "a55c4772",
   "metadata": {},
   "outputs": [],
   "source": [
    "df = df.rename(columns={'Unnamed: 15':'t1_decimals','Unnamed: 16':'t1_typename'})"
   ]
  },
  {
   "cell_type": "code",
   "execution_count": 316,
   "id": "dcc5826b",
   "metadata": {},
   "outputs": [
    {
     "name": "stdout",
     "output_type": "stream",
     "text": [
      "<class 'pandas.core.frame.DataFrame'>\n",
      "RangeIndex: 52 entries, 1 to 52\n",
      "Data columns (total 29 columns):\n",
      " #   Column                  Non-Null Count  Dtype  \n",
      "---  ------                  --------------  -----  \n",
      " 0   id                      52 non-null     object \n",
      " 1   feeTier                 52 non-null     float64\n",
      " 2   liquidity               52 non-null     object \n",
      " 3   sqrtPrice               52 non-null     object \n",
      " 4   tick                    51 non-null     float64\n",
      " 5   t0_id                   52 non-null     object \n",
      " 6   t0_symbol               52 non-null     object \n",
      " 7   t0_name                 52 non-null     object \n",
      " 8   t0_decimals             52 non-null     object \n",
      " 9   t0_derivedETH           52 non-null     object \n",
      " 10  t0_typename             52 non-null     object \n",
      " 11  t1_id                   52 non-null     object \n",
      " 12  t1_symbol               52 non-null     object \n",
      " 13  t1_name                 52 non-null     object \n",
      " 14  t1_derivedETH           52 non-null     object \n",
      " 15  t1_decimals             52 non-null     object \n",
      " 16  t1_typename             52 non-null     object \n",
      " 17  token0Price             52 non-null     float64\n",
      " 18  token1Price             52 non-null     object \n",
      " 19  volumeUSD               52 non-null     float64\n",
      " 20  volumeToken0            52 non-null     float64\n",
      " 21  volumeToken1            52 non-null     float64\n",
      " 22  txCount                 52 non-null     float64\n",
      " 23  totalValueLockedToken0  52 non-null     float64\n",
      " 24  totalValueLockedToken1  52 non-null     float64\n",
      " 25  totalValueLockedUSD     52 non-null     float64\n",
      " 26  __typename              52 non-null     object \n",
      " 27  bundles                 1 non-null      object \n",
      " 28  Unnamed: 28             1 non-null      object \n",
      "dtypes: float64(10), object(19)\n",
      "memory usage: 11.9+ KB\n"
     ]
    }
   ],
   "source": [
    "df.info()"
   ]
  },
  {
   "cell_type": "markdown",
   "id": "930064bb",
   "metadata": {},
   "source": [
    "Last two columns do not seem to be of use hence being dropped"
   ]
  },
  {
   "cell_type": "code",
   "execution_count": 317,
   "id": "f58ba7c0",
   "metadata": {},
   "outputs": [],
   "source": [
    "col_todrop = ['bundles', 'Unnamed: 28']"
   ]
  },
  {
   "cell_type": "code",
   "execution_count": 318,
   "id": "2d3d3b58",
   "metadata": {},
   "outputs": [],
   "source": [
    "df.drop(col_todrop, inplace=True, axis=1)"
   ]
  },
  {
   "cell_type": "code",
   "execution_count": 319,
   "id": "be331c50",
   "metadata": {},
   "outputs": [
    {
     "data": {
      "text/plain": [
       "id                        0\n",
       "feeTier                   0\n",
       "liquidity                 0\n",
       "sqrtPrice                 0\n",
       "tick                      1\n",
       "t0_id                     0\n",
       "t0_symbol                 0\n",
       "t0_name                   0\n",
       "t0_decimals               0\n",
       "t0_derivedETH             0\n",
       "t0_typename               0\n",
       "t1_id                     0\n",
       "t1_symbol                 0\n",
       "t1_name                   0\n",
       "t1_derivedETH             0\n",
       "t1_decimals               0\n",
       "t1_typename               0\n",
       "token0Price               0\n",
       "token1Price               0\n",
       "volumeUSD                 0\n",
       "volumeToken0              0\n",
       "volumeToken1              0\n",
       "txCount                   0\n",
       "totalValueLockedToken0    0\n",
       "totalValueLockedToken1    0\n",
       "totalValueLockedUSD       0\n",
       "__typename                0\n",
       "dtype: int64"
      ]
     },
     "execution_count": 319,
     "metadata": {},
     "output_type": "execute_result"
    }
   ],
   "source": [
    "#Missing value detection\n",
    "df.isna().sum()"
   ]
  },
  {
   "cell_type": "code",
   "execution_count": 320,
   "id": "c5960226",
   "metadata": {},
   "outputs": [],
   "source": [
    "#Tick contains a missing value. Need to delete the row with missing tick value"
   ]
  },
  {
   "cell_type": "code",
   "execution_count": 321,
   "id": "35f2e302",
   "metadata": {},
   "outputs": [
    {
     "data": {
      "text/plain": [
       "['tick']"
      ]
     },
     "execution_count": 321,
     "metadata": {},
     "output_type": "execute_result"
    }
   ],
   "source": [
    "df.columns[df.isna().any()].tolist()"
   ]
  },
  {
   "cell_type": "code",
   "execution_count": 322,
   "id": "6c80e170",
   "metadata": {},
   "outputs": [],
   "source": [
    "df = df.dropna(axis=0)"
   ]
  },
  {
   "cell_type": "code",
   "execution_count": 323,
   "id": "48d2bb08",
   "metadata": {},
   "outputs": [
    {
     "data": {
      "text/plain": [
       "id                        0\n",
       "feeTier                   0\n",
       "liquidity                 0\n",
       "sqrtPrice                 0\n",
       "tick                      0\n",
       "t0_id                     0\n",
       "t0_symbol                 0\n",
       "t0_name                   0\n",
       "t0_decimals               0\n",
       "t0_derivedETH             0\n",
       "t0_typename               0\n",
       "t1_id                     0\n",
       "t1_symbol                 0\n",
       "t1_name                   0\n",
       "t1_derivedETH             0\n",
       "t1_decimals               0\n",
       "t1_typename               0\n",
       "token0Price               0\n",
       "token1Price               0\n",
       "volumeUSD                 0\n",
       "volumeToken0              0\n",
       "volumeToken1              0\n",
       "txCount                   0\n",
       "totalValueLockedToken0    0\n",
       "totalValueLockedToken1    0\n",
       "totalValueLockedUSD       0\n",
       "__typename                0\n",
       "dtype: int64"
      ]
     },
     "execution_count": 323,
     "metadata": {},
     "output_type": "execute_result"
    }
   ],
   "source": [
    "#No more missing value\n",
    "df.isna().sum()"
   ]
  },
  {
   "cell_type": "code",
   "execution_count": 324,
   "id": "e664aaca",
   "metadata": {},
   "outputs": [
    {
     "data": {
      "text/html": [
       "<div>\n",
       "<style scoped>\n",
       "    .dataframe tbody tr th:only-of-type {\n",
       "        vertical-align: middle;\n",
       "    }\n",
       "\n",
       "    .dataframe tbody tr th {\n",
       "        vertical-align: top;\n",
       "    }\n",
       "\n",
       "    .dataframe thead th {\n",
       "        text-align: right;\n",
       "    }\n",
       "</style>\n",
       "<table border=\"1\" class=\"dataframe\">\n",
       "  <thead>\n",
       "    <tr style=\"text-align: right;\">\n",
       "      <th></th>\n",
       "      <th>feeTier</th>\n",
       "      <th>tick</th>\n",
       "      <th>token0Price</th>\n",
       "      <th>volumeUSD</th>\n",
       "      <th>volumeToken0</th>\n",
       "      <th>volumeToken1</th>\n",
       "      <th>txCount</th>\n",
       "      <th>totalValueLockedToken0</th>\n",
       "      <th>totalValueLockedToken1</th>\n",
       "      <th>totalValueLockedUSD</th>\n",
       "    </tr>\n",
       "  </thead>\n",
       "  <tbody>\n",
       "    <tr>\n",
       "      <th>count</th>\n",
       "      <td>51.000000</td>\n",
       "      <td>51.000000</td>\n",
       "      <td>5.100000e+01</td>\n",
       "      <td>5.100000e+01</td>\n",
       "      <td>5.100000e+01</td>\n",
       "      <td>5.100000e+01</td>\n",
       "      <td>5.100000e+01</td>\n",
       "      <td>5.100000e+01</td>\n",
       "      <td>5.100000e+01</td>\n",
       "      <td>5.100000e+01</td>\n",
       "    </tr>\n",
       "    <tr>\n",
       "      <th>mean</th>\n",
       "      <td>2537.254902</td>\n",
       "      <td>-23889.352941</td>\n",
       "      <td>5.206648e+06</td>\n",
       "      <td>1.437896e+10</td>\n",
       "      <td>4.863104e+12</td>\n",
       "      <td>6.255668e+12</td>\n",
       "      <td>2.514110e+05</td>\n",
       "      <td>1.895198e+10</td>\n",
       "      <td>4.548427e+11</td>\n",
       "      <td>2.210389e+10</td>\n",
       "    </tr>\n",
       "    <tr>\n",
       "      <th>std</th>\n",
       "      <td>2796.495005</td>\n",
       "      <td>203783.825892</td>\n",
       "      <td>2.502617e+07</td>\n",
       "      <td>4.875177e+10</td>\n",
       "      <td>2.438701e+13</td>\n",
       "      <td>4.464731e+13</td>\n",
       "      <td>6.674736e+05</td>\n",
       "      <td>9.786489e+10</td>\n",
       "      <td>3.246031e+12</td>\n",
       "      <td>1.554170e+11</td>\n",
       "    </tr>\n",
       "    <tr>\n",
       "      <th>min</th>\n",
       "      <td>100.000000</td>\n",
       "      <td>-280460.000000</td>\n",
       "      <td>0.000000e+00</td>\n",
       "      <td>0.000000e+00</td>\n",
       "      <td>1.000000e-06</td>\n",
       "      <td>9.890000e-14</td>\n",
       "      <td>3.000000e+00</td>\n",
       "      <td>0.000000e+00</td>\n",
       "      <td>3.069925e-03</td>\n",
       "      <td>9.160086e+00</td>\n",
       "    </tr>\n",
       "    <tr>\n",
       "      <th>25%</th>\n",
       "      <td>500.000000</td>\n",
       "      <td>-143131.500000</td>\n",
       "      <td>9.130080e-02</td>\n",
       "      <td>3.376234e+08</td>\n",
       "      <td>5.449057e+05</td>\n",
       "      <td>4.625724e+05</td>\n",
       "      <td>1.073850e+04</td>\n",
       "      <td>9.133501e+03</td>\n",
       "      <td>5.416329e+03</td>\n",
       "      <td>1.256348e+07</td>\n",
       "    </tr>\n",
       "    <tr>\n",
       "      <th>50%</th>\n",
       "      <td>3000.000000</td>\n",
       "      <td>-54703.000000</td>\n",
       "      <td>1.000437e+00</td>\n",
       "      <td>8.740589e+08</td>\n",
       "      <td>3.596942e+08</td>\n",
       "      <td>9.036925e+06</td>\n",
       "      <td>5.315100e+04</td>\n",
       "      <td>4.319929e+06</td>\n",
       "      <td>9.647995e+04</td>\n",
       "      <td>1.921483e+07</td>\n",
       "    </tr>\n",
       "    <tr>\n",
       "      <th>75%</th>\n",
       "      <td>3000.000000</td>\n",
       "      <td>30277.500000</td>\n",
       "      <td>8.181634e+02</td>\n",
       "      <td>6.279785e+09</td>\n",
       "      <td>2.746067e+09</td>\n",
       "      <td>8.600547e+08</td>\n",
       "      <td>1.967915e+05</td>\n",
       "      <td>1.629036e+07</td>\n",
       "      <td>1.767937e+07</td>\n",
       "      <td>8.309833e+07</td>\n",
       "    </tr>\n",
       "    <tr>\n",
       "      <th>max</th>\n",
       "      <td>10000.000000</td>\n",
       "      <td>887271.000000</td>\n",
       "      <td>1.279653e+08</td>\n",
       "      <td>3.390727e+11</td>\n",
       "      <td>1.366180e+14</td>\n",
       "      <td>3.188493e+14</td>\n",
       "      <td>4.402198e+06</td>\n",
       "      <td>6.076054e+11</td>\n",
       "      <td>2.318160e+13</td>\n",
       "      <td>1.110167e+12</td>\n",
       "    </tr>\n",
       "  </tbody>\n",
       "</table>\n",
       "</div>"
      ],
      "text/plain": [
       "            feeTier           tick   token0Price     volumeUSD  volumeToken0  \\\n",
       "count     51.000000      51.000000  5.100000e+01  5.100000e+01  5.100000e+01   \n",
       "mean    2537.254902  -23889.352941  5.206648e+06  1.437896e+10  4.863104e+12   \n",
       "std     2796.495005  203783.825892  2.502617e+07  4.875177e+10  2.438701e+13   \n",
       "min      100.000000 -280460.000000  0.000000e+00  0.000000e+00  1.000000e-06   \n",
       "25%      500.000000 -143131.500000  9.130080e-02  3.376234e+08  5.449057e+05   \n",
       "50%     3000.000000  -54703.000000  1.000437e+00  8.740589e+08  3.596942e+08   \n",
       "75%     3000.000000   30277.500000  8.181634e+02  6.279785e+09  2.746067e+09   \n",
       "max    10000.000000  887271.000000  1.279653e+08  3.390727e+11  1.366180e+14   \n",
       "\n",
       "       volumeToken1       txCount  totalValueLockedToken0  \\\n",
       "count  5.100000e+01  5.100000e+01            5.100000e+01   \n",
       "mean   6.255668e+12  2.514110e+05            1.895198e+10   \n",
       "std    4.464731e+13  6.674736e+05            9.786489e+10   \n",
       "min    9.890000e-14  3.000000e+00            0.000000e+00   \n",
       "25%    4.625724e+05  1.073850e+04            9.133501e+03   \n",
       "50%    9.036925e+06  5.315100e+04            4.319929e+06   \n",
       "75%    8.600547e+08  1.967915e+05            1.629036e+07   \n",
       "max    3.188493e+14  4.402198e+06            6.076054e+11   \n",
       "\n",
       "       totalValueLockedToken1  totalValueLockedUSD  \n",
       "count            5.100000e+01         5.100000e+01  \n",
       "mean             4.548427e+11         2.210389e+10  \n",
       "std              3.246031e+12         1.554170e+11  \n",
       "min              3.069925e-03         9.160086e+00  \n",
       "25%              5.416329e+03         1.256348e+07  \n",
       "50%              9.647995e+04         1.921483e+07  \n",
       "75%              1.767937e+07         8.309833e+07  \n",
       "max              2.318160e+13         1.110167e+12  "
      ]
     },
     "execution_count": 324,
     "metadata": {},
     "output_type": "execute_result"
    }
   ],
   "source": [
    "df.describe()"
   ]
  },
  {
   "cell_type": "code",
   "execution_count": 325,
   "id": "5ad0aad5",
   "metadata": {},
   "outputs": [
    {
     "data": {
      "text/plain": [
       "id                        51\n",
       "feeTier                    4\n",
       "liquidity                 50\n",
       "sqrtPrice                 51\n",
       "tick                      49\n",
       "t0_id                     24\n",
       "t0_symbol                 24\n",
       "t0_name                   24\n",
       "t0_decimals                3\n",
       "t0_derivedETH             23\n",
       "t0_typename                1\n",
       "t1_id                     18\n",
       "t1_symbol                 18\n",
       "t1_name                   18\n",
       "t1_derivedETH              4\n",
       "t1_decimals               14\n",
       "t1_typename                1\n",
       "token0Price               51\n",
       "token1Price               51\n",
       "volumeUSD                 49\n",
       "volumeToken0              50\n",
       "volumeToken1              51\n",
       "txCount                   49\n",
       "totalValueLockedToken0    51\n",
       "totalValueLockedToken1    51\n",
       "totalValueLockedUSD       51\n",
       "__typename                 1\n",
       "dtype: int64"
      ]
     },
     "execution_count": 325,
     "metadata": {},
     "output_type": "execute_result"
    }
   ],
   "source": [
    "df.nunique()"
   ]
  },
  {
   "cell_type": "markdown",
   "id": "eadbc13a",
   "metadata": {},
   "source": [
    "Analysis of variables of interest : tick, totalValueLockedUSD and liquidity"
   ]
  },
  {
   "cell_type": "code",
   "execution_count": 326,
   "id": "1b6abdb2",
   "metadata": {},
   "outputs": [],
   "source": [
    "#TICK"
   ]
  },
  {
   "cell_type": "code",
   "execution_count": 327,
   "id": "13654a27",
   "metadata": {},
   "outputs": [
    {
     "data": {
      "text/plain": [
       "<seaborn.axisgrid.FacetGrid at 0x2b42d5d2ac0>"
      ]
     },
     "execution_count": 327,
     "metadata": {},
     "output_type": "execute_result"
    },
    {
     "data": {
      "image/png": "[encoded data removed]",
      "text/plain": [
       "<Figure size 360x360 with 1 Axes>"
      ]
     },
     "metadata": {
      "needs_background": "light"
     },
     "output_type": "display_data"
    }
   ],
   "source": [
    "sns.displot( df['tick'], kde = True)"
   ]
  },
  {
   "cell_type": "code",
   "execution_count": 328,
   "id": "33af3021",
   "metadata": {},
   "outputs": [
    {
     "data": {
      "text/plain": [
       "<AxesSubplot:xlabel='tick', ylabel='Count'>"
      ]
     },
     "execution_count": 328,
     "metadata": {},
     "output_type": "execute_result"
    },
    {
     "data": {
      "image/png": "[encoded data removed]",
      "text/plain": [
       "<Figure size 1296x360 with 1 Axes>"
      ]
     },
     "metadata": {
      "needs_background": "light"
     },
     "output_type": "display_data"
    }
   ],
   "source": [
    "fig, ax = plt.subplots(figsize=(18, 5))\n",
    "sns.histplot(data = df, x = 'tick', ax=ax)"
   ]
  },
  {
   "cell_type": "code",
   "execution_count": 329,
   "id": "cfd76721",
   "metadata": {},
   "outputs": [
    {
     "data": {
      "text/plain": [
       "<AxesSubplot:>"
      ]
     },
     "execution_count": 329,
     "metadata": {},
     "output_type": "execute_result"
    },
    {
     "data": {
      "image/png": "[encoded data removed]",
      "text/plain": [
       "<Figure size 360x360 with 1 Axes>"
      ]
     },
     "metadata": {
      "needs_background": "light"
     },
     "output_type": "display_data"
    }
   ],
   "source": [
    "cat_cols = ['tick']\n",
    "\n",
    "df[cat_cols].boxplot(figsize=(5,5))"
   ]
  },
  {
   "cell_type": "code",
   "execution_count": 330,
   "id": "a894d004",
   "metadata": {},
   "outputs": [],
   "source": [
    "#TotalValueLockedUSD"
   ]
  },
  {
   "cell_type": "code",
   "execution_count": 331,
   "id": "8ad2ec57",
   "metadata": {},
   "outputs": [
    {
     "data": {
      "text/plain": [
       "<AxesSubplot:>"
      ]
     },
     "execution_count": 331,
     "metadata": {},
     "output_type": "execute_result"
    },
    {
     "data": {
      "image/png": "[encoded data removed]",
      "text/plain": [
       "<Figure size 360x360 with 1 Axes>"
      ]
     },
     "metadata": {
      "needs_background": "light"
     },
     "output_type": "display_data"
    }
   ],
   "source": [
    "cat_cols = ['totalValueLockedUSD']\n",
    "\n",
    "df[cat_cols].boxplot(figsize=(5,5))"
   ]
  },
  {
   "cell_type": "markdown",
   "id": "d5218c8d",
   "metadata": {},
   "source": [
    "As is evident from the plot we need to normalize the variable totalValueLockedUSD. Deleting outliers is not an option"
   ]
  },
  {
   "cell_type": "code",
   "execution_count": 332,
   "id": "d6117e94",
   "metadata": {},
   "outputs": [],
   "source": [
    "Valued_Locked_Sum =  df['totalValueLockedUSD'].sum()"
   ]
  },
  {
   "cell_type": "code",
   "execution_count": 333,
   "id": "586b4c1a",
   "metadata": {},
   "outputs": [
    {
     "data": {
      "text/plain": [
       "1127298526554.526"
      ]
     },
     "execution_count": 333,
     "metadata": {},
     "output_type": "execute_result"
    }
   ],
   "source": [
    "Valued_Locked_Sum"
   ]
  },
  {
   "cell_type": "code",
   "execution_count": 334,
   "id": "dc343c75",
   "metadata": {},
   "outputs": [],
   "source": [
    "#price per tick\n",
    "#$ price = 1.0001 ^ (-tick) * 10^12\n",
    "df['tick_price'] = pow(1.0001,  (df['tick']*-1))*pow(10,12) "
   ]
  },
  {
   "cell_type": "code",
   "execution_count": 335,
   "id": "c83a5012",
   "metadata": {},
   "outputs": [
    {
     "data": {
      "text/plain": [
       "8.45289069026492e+24"
      ]
     },
     "execution_count": 335,
     "metadata": {},
     "output_type": "execute_result"
    }
   ],
   "source": [
    "df['tick_price'].sum()"
   ]
  },
  {
   "cell_type": "code",
   "execution_count": 336,
   "id": "3adc5175",
   "metadata": {},
   "outputs": [
    {
     "data": {
      "text/plain": [
       "<AxesSubplot:>"
      ]
     },
     "execution_count": 336,
     "metadata": {},
     "output_type": "execute_result"
    },
    {
     "data": {
      "image/png": "[encoded data removed]",
      "text/plain": [
       "<Figure size 360x360 with 1 Axes>"
      ]
     },
     "metadata": {
      "needs_background": "light"
     },
     "output_type": "display_data"
    }
   ],
   "source": [
    "cat_cols = ['tick_price']\n",
    "\n",
    "df[cat_cols].boxplot(figsize=(5,5))"
   ]
  },
  {
   "cell_type": "markdown",
   "id": "9a6b58c3",
   "metadata": {},
   "source": [
    "Need to normalize it as deleting ouliters is not an option"
   ]
  },
  {
   "cell_type": "code",
   "execution_count": 337,
   "id": "27a1c9bb",
   "metadata": {},
   "outputs": [
    {
     "data": {
      "text/plain": [
       "1.000598e+24    2\n",
       "1.000097e+24    2\n",
       "2.164656e+12    1\n",
       "1.653963e+15    1\n",
       "1.000000e+11    1\n",
       "1.320335e+16    1\n",
       "1.528946e+13    1\n",
       "9.363187e+23    1\n",
       "1.512217e+24    1\n",
       "1.631622e+15    1\n",
       "1.000100e+12    1\n",
       "1.282855e+08    1\n",
       "1.273649e+20    1\n",
       "1.020199e+19    1\n",
       "6.107448e+14    1\n",
       "2.839274e+10    1\n",
       "1.001699e+24    1\n",
       "6.161428e+14    1\n",
       "1.012783e-01    1\n",
       "1.676949e+03    1\n",
       "9.934221e+11    1\n",
       "8.261407e+10    1\n",
       "1.279777e+20    1\n",
       "2.648121e+17    1\n",
       "1.663583e+15    1\n",
       "1.000500e+12    1\n",
       "2.943047e+14    1\n",
       "9.964067e+11    1\n",
       "1.020200e+15    1\n",
       "1.661925e+03    1\n",
       "1.662590e+03    1\n",
       "6.814187e+00    1\n",
       "9.997974e+23    1\n",
       "1.000200e+12    1\n",
       "6.015314e+20    1\n",
       "6.821686e+00    1\n",
       "1.000000e+12    1\n",
       "4.101407e+09    1\n",
       "1.000601e+10    1\n",
       "6.019526e+20    1\n",
       "1.663084e+15    1\n",
       "2.374665e+14    1\n",
       "1.661759e+03    1\n",
       "2.171375e+14    1\n",
       "1.194097e+15    1\n",
       "2.728765e+15    1\n",
       "9.997001e+11    1\n",
       "4.447435e+02    1\n",
       "2.939251e-27    1\n",
       "Name: tick_price, dtype: int64"
      ]
     },
     "execution_count": 337,
     "metadata": {},
     "output_type": "execute_result"
    }
   ],
   "source": [
    "df['tick_price'].value_counts()"
   ]
  },
  {
   "cell_type": "code",
   "execution_count": 338,
   "id": "b1634020",
   "metadata": {},
   "outputs": [
    {
     "data": {
      "text/plain": [
       "count    5.100000e+01\n",
       "mean     1.657430e+23\n",
       "std      3.941640e+23\n",
       "min      2.939251e-27\n",
       "25%      5.550340e+10\n",
       "50%      2.374665e+14\n",
       "75%      5.233400e+18\n",
       "max      1.512217e+24\n",
       "Name: tick_price, dtype: float64"
      ]
     },
     "execution_count": 338,
     "metadata": {},
     "output_type": "execute_result"
    }
   ],
   "source": [
    "df['tick_price'].describe()"
   ]
  },
  {
   "cell_type": "code",
   "execution_count": 339,
   "id": "fad23b15",
   "metadata": {},
   "outputs": [],
   "source": [
    "#Liquidity"
   ]
  },
  {
   "cell_type": "code",
   "execution_count": 340,
   "id": "13de8edf",
   "metadata": {},
   "outputs": [],
   "source": [
    "df['liquidity'] = df['liquidity'].astype(float)"
   ]
  },
  {
   "cell_type": "code",
   "execution_count": 341,
   "id": "6f540451",
   "metadata": {},
   "outputs": [
    {
     "data": {
      "text/plain": [
       "<AxesSubplot:>"
      ]
     },
     "execution_count": 341,
     "metadata": {},
     "output_type": "execute_result"
    },
    {
     "data": {
      "image/png": "[encoded data removed]",
      "text/plain": [
       "<Figure size 432x288 with 1 Axes>"
      ]
     },
     "metadata": {
      "needs_background": "light"
     },
     "output_type": "display_data"
    }
   ],
   "source": [
    "#Outlier presence is significant \n",
    "df.boxplot(column=['liquidity'])"
   ]
  },
  {
   "cell_type": "code",
   "execution_count": 342,
   "id": "ccff390b",
   "metadata": {},
   "outputs": [],
   "source": [
    "df['liquidity_copy'] = df['liquidity'].copy()"
   ]
  },
  {
   "cell_type": "code",
   "execution_count": 343,
   "id": "6231fa90",
   "metadata": {},
   "outputs": [
    {
     "data": {
      "text/plain": [
       "count    5.100000e+01\n",
       "mean     1.542367e+26\n",
       "std      6.459196e+26\n",
       "min      0.000000e+00\n",
       "25%      3.554859e+18\n",
       "50%      1.734330e+22\n",
       "75%      9.713800e+23\n",
       "max      4.195543e+27\n",
       "Name: liquidity, dtype: float64"
      ]
     },
     "execution_count": 343,
     "metadata": {},
     "output_type": "execute_result"
    }
   ],
   "source": [
    "#Mean greater than std means too big a range\n",
    "df['liquidity'].describe()"
   ]
  },
  {
   "cell_type": "code",
   "execution_count": 344,
   "id": "32c532a3",
   "metadata": {},
   "outputs": [
    {
     "data": {
      "text/plain": [
       "0.000000e+00    2\n",
       "3.135210e+20    1\n",
       "2.519721e+25    1\n",
       "6.131589e+23    1\n",
       "1.855175e+14    1\n",
       "6.324714e+26    1\n",
       "6.379413e+22    1\n",
       "2.298474e+20    1\n",
       "8.332449e+18    1\n",
       "5.263860e+23    1\n",
       "1.000500e+25    1\n",
       "4.156271e+23    1\n",
       "6.515108e+21    1\n",
       "1.706245e+27    1\n",
       "3.287147e+22    1\n",
       "5.467515e+20    1\n",
       "1.654606e+23    1\n",
       "4.625914e+19    1\n",
       "1.000365e+22    1\n",
       "6.013065e+16    1\n",
       "6.542824e+23    1\n",
       "2.305143e+25    1\n",
       "1.889626e+26    1\n",
       "6.965877e+21    1\n",
       "4.024925e+23    1\n",
       "5.672635e+23    1\n",
       "2.213738e+16    1\n",
       "1.059630e+27    1\n",
       "4.074098e+19    1\n",
       "3.266606e+19    1\n",
       "1.131324e+19    1\n",
       "2.307415e+18    1\n",
       "1.152448e+24    1\n",
       "2.000607e+23    1\n",
       "9.490766e+17    1\n",
       "4.229054e+18    1\n",
       "1.215321e+18    1\n",
       "1.000302e+17    1\n",
       "1.734330e+22    1\n",
       "1.290227e+25    1\n",
       "3.822299e+12    1\n",
       "2.880665e+18    1\n",
       "1.007631e+24    1\n",
       "9.351295e+23    1\n",
       "2.131926e+18    1\n",
       "2.084382e+24    1\n",
       "2.785888e+24    1\n",
       "4.142292e+23    1\n",
       "4.195543e+27    1\n",
       "8.098688e+16    1\n",
       "Name: liquidity, dtype: int64"
      ]
     },
     "execution_count": 344,
     "metadata": {},
     "output_type": "execute_result"
    }
   ],
   "source": [
    "df['liquidity'].value_counts()"
   ]
  },
  {
   "cell_type": "markdown",
   "id": "310c23ab",
   "metadata": {},
   "source": [
    "We need to normalize both liquidity and tick_price in order to get meaningful insights. \n",
    "There are two wasys to do it :\n",
    "1) Do it in the original dataframe modifying the original columns\n",
    "\n",
    "2) Do not modify the original columns. Copy the dataframe and normalzie the columns and extract them as series.\n",
    "\n",
    "Here I choose option 1 "
   ]
  },
  {
   "cell_type": "code",
   "execution_count": 345,
   "id": "3edfc1d2",
   "metadata": {},
   "outputs": [],
   "source": [
    "from sklearn.preprocessing import StandardScaler"
   ]
  },
  {
   "cell_type": "code",
   "execution_count": 346,
   "id": "51b88e6b",
   "metadata": {},
   "outputs": [],
   "source": [
    "cols_to_norm = ['tick_price','liquidity']\n",
    "df[cols_to_norm] = StandardScaler().fit_transform(df[cols_to_norm])"
   ]
  },
  {
   "cell_type": "code",
   "execution_count": null,
   "id": "ca023f8a",
   "metadata": {},
   "outputs": [],
   "source": []
  },
  {
   "cell_type": "code",
   "execution_count": 347,
   "id": "d4af8df6",
   "metadata": {},
   "outputs": [
    {
     "data": {
      "text/plain": [
       "1    -0.424650\n",
       "2    -0.424677\n",
       "3    -0.424677\n",
       "5    -0.424677\n",
       "6    -0.424677\n",
       "7    -0.424677\n",
       "8     2.137833\n",
       "9     2.137064\n",
       "10   -0.424677\n",
       "11   -0.423135\n",
       "12   -0.424677\n",
       "13   -0.424677\n",
       "14    2.139114\n",
       "15   -0.424677\n",
       "16   -0.424677\n",
       "17   -0.423134\n",
       "18   -0.424677\n",
       "19   -0.424677\n",
       "20   -0.424677\n",
       "21   -0.424677\n",
       "22   -0.424677\n",
       "23   -0.424677\n",
       "24   -0.424677\n",
       "25   -0.424677\n",
       "26   -0.424677\n",
       "27   -0.424677\n",
       "28   -0.424677\n",
       "29   -0.424677\n",
       "30   -0.424677\n",
       "31   -0.424677\n",
       "32   -0.424676\n",
       "33   -0.424677\n",
       "34    1.974415\n",
       "35    3.450016\n",
       "36   -0.424677\n",
       "37   -0.424677\n",
       "38   -0.424677\n",
       "39   -0.424350\n",
       "40   -0.424677\n",
       "41   -0.424677\n",
       "42    2.141936\n",
       "43   -0.424677\n",
       "44   -0.424677\n",
       "45    2.137833\n",
       "46   -0.424677\n",
       "47   -0.424677\n",
       "48   -0.424677\n",
       "49   -0.424349\n",
       "50    2.139114\n",
       "51   -0.424676\n",
       "52   -0.424677\n",
       "Name: tick_price, dtype: float64"
      ]
     },
     "execution_count": 347,
     "metadata": {},
     "output_type": "execute_result"
    }
   ],
   "source": [
    "df['tick_price']"
   ]
  },
  {
   "cell_type": "code",
   "execution_count": 348,
   "id": "3ac0f78b",
   "metadata": {},
   "outputs": [],
   "source": [
    "df['tick_price'] =  round(df['tick_price'], 4)"
   ]
  },
  {
   "cell_type": "code",
   "execution_count": 349,
   "id": "5743421a",
   "metadata": {},
   "outputs": [
    {
     "data": {
      "text/plain": [
       "-0.4247    39\n",
       " 2.1378     2\n",
       "-0.4231     2\n",
       " 2.1391     2\n",
       " 2.1371     1\n",
       " 1.9744     1\n",
       " 3.4500     1\n",
       "-0.4244     1\n",
       " 2.1419     1\n",
       "-0.4243     1\n",
       "Name: tick_price, dtype: int64"
      ]
     },
     "execution_count": 349,
     "metadata": {},
     "output_type": "execute_result"
    }
   ],
   "source": [
    "df['tick_price'].value_counts()"
   ]
  },
  {
   "cell_type": "code",
   "execution_count": 350,
   "id": "3d0287a4",
   "metadata": {},
   "outputs": [
    {
     "data": {
      "text/plain": [
       "<seaborn.axisgrid.FacetGrid at 0x2b432dd1220>"
      ]
     },
     "execution_count": 350,
     "metadata": {},
     "output_type": "execute_result"
    },
    {
     "data": {
      "image/png": "[encoded data removed]",
      "text/plain": [
       "<Figure size 360x360 with 1 Axes>"
      ]
     },
     "metadata": {
      "needs_background": "light"
     },
     "output_type": "display_data"
    }
   ],
   "source": [
    "sns.displot( df['tick_price'], kde = True)"
   ]
  },
  {
   "cell_type": "code",
   "execution_count": 351,
   "id": "5612c573",
   "metadata": {},
   "outputs": [
    {
     "data": {
      "text/plain": [
       "<AxesSubplot:xlabel='tick_price', ylabel='count'>"
      ]
     },
     "execution_count": 351,
     "metadata": {},
     "output_type": "execute_result"
    },
    {
     "data": {
      "image/png": "[encoded data removed]",
      "text/plain": [
       "<Figure size 1296x360 with 1 Axes>"
      ]
     },
     "metadata": {
      "needs_background": "light"
     },
     "output_type": "display_data"
    }
   ],
   "source": [
    "fig, ax = plt.subplots(figsize=(18, 5))\n",
    "sns.countplot(df['tick_price'], ax = ax)"
   ]
  },
  {
   "cell_type": "code",
   "execution_count": 352,
   "id": "dc2d9f3a",
   "metadata": {},
   "outputs": [],
   "source": [
    "#Normalzied liquidity"
   ]
  },
  {
   "cell_type": "code",
   "execution_count": 353,
   "id": "96eafc55",
   "metadata": {},
   "outputs": [
    {
     "data": {
      "text/plain": [
       "1    -0.241162\n",
       "2     2.426698\n",
       "3    -0.241162\n",
       "5    -0.241162\n",
       "6    -0.241162\n",
       "7    -0.241162\n",
       "8    -0.239360\n",
       "9    -0.240849\n",
       "10   -0.241162\n",
       "11   -0.241162\n",
       "12   -0.241162\n",
       "13   -0.241162\n",
       "14   -0.241135\n",
       "15   -0.220988\n",
       "16   -0.241162\n",
       "17   -0.241162\n",
       "18   -0.239587\n",
       "19   -0.239700\n",
       "20   -0.241162\n",
       "21   -0.237903\n",
       "22   -0.236806\n",
       "23   -0.240515\n",
       "24    6.318927\n",
       "25    1.415660\n",
       "26   -0.241162\n",
       "27   -0.240275\n",
       "28   -0.240533\n",
       "29   -0.240204\n",
       "30   -0.241162\n",
       "31    0.747761\n",
       "32   -0.241162\n",
       "33   -0.241062\n",
       "34   -0.241162\n",
       "35   -0.241162\n",
       "36   -0.240339\n",
       "37   -0.225519\n",
       "38   -0.240512\n",
       "39   -0.201764\n",
       "40   -0.241152\n",
       "41   -0.241111\n",
       "42   -0.241161\n",
       "43   -0.240904\n",
       "44   -0.241162\n",
       "45   -0.241147\n",
       "46   -0.241162\n",
       "47   -0.240139\n",
       "48   -0.205119\n",
       "49    0.054297\n",
       "50   -0.241151\n",
       "51   -0.241162\n",
       "52   -0.241162\n",
       "Name: liquidity, dtype: float64"
      ]
     },
     "execution_count": 353,
     "metadata": {},
     "output_type": "execute_result"
    }
   ],
   "source": [
    "df['liquidity']"
   ]
  },
  {
   "cell_type": "code",
   "execution_count": 354,
   "id": "93957fac",
   "metadata": {},
   "outputs": [],
   "source": [
    "df['liquidity'] =  round(df['liquidity'], 2)"
   ]
  },
  {
   "cell_type": "code",
   "execution_count": 355,
   "id": "8afeee7e",
   "metadata": {},
   "outputs": [
    {
     "data": {
      "text/plain": [
       "-0.24    42\n",
       " 2.43     1\n",
       "-0.22     1\n",
       " 6.32     1\n",
       " 1.42     1\n",
       " 0.75     1\n",
       "-0.23     1\n",
       "-0.20     1\n",
       "-0.21     1\n",
       " 0.05     1\n",
       "Name: liquidity, dtype: int64"
      ]
     },
     "execution_count": 355,
     "metadata": {},
     "output_type": "execute_result"
    }
   ],
   "source": [
    "df['liquidity'].value_counts()"
   ]
  },
  {
   "cell_type": "code",
   "execution_count": 356,
   "id": "647b7238",
   "metadata": {},
   "outputs": [
    {
     "data": {
      "text/plain": [
       "<seaborn.axisgrid.FacetGrid at 0x2b433044970>"
      ]
     },
     "execution_count": 356,
     "metadata": {},
     "output_type": "execute_result"
    },
    {
     "data": {
      "image/png": "[encoded data removed]",
      "text/plain": [
       "<Figure size 360x360 with 1 Axes>"
      ]
     },
     "metadata": {
      "needs_background": "light"
     },
     "output_type": "display_data"
    }
   ],
   "source": [
    "sns.displot( df['liquidity'], kde = True, ax=ax)"
   ]
  },
  {
   "cell_type": "code",
   "execution_count": 357,
   "id": "854f556e",
   "metadata": {},
   "outputs": [
    {
     "data": {
      "text/plain": [
       "<AxesSubplot:xlabel='liquidity', ylabel='count'>"
      ]
     },
     "execution_count": 357,
     "metadata": {},
     "output_type": "execute_result"
    },
    {
     "data": {
      "image/png": "[encoded data removed]",
      "text/plain": [
       "<Figure size 1296x360 with 1 Axes>"
      ]
     },
     "metadata": {
      "needs_background": "light"
     },
     "output_type": "display_data"
    }
   ],
   "source": [
    "fig, ax = plt.subplots(figsize=(18, 5))\n",
    "sns.countplot(df['liquidity'], ax= ax)"
   ]
  },
  {
   "cell_type": "markdown",
   "id": "9029aa0c",
   "metadata": {},
   "source": [
    "Lets do some outlier removal on liquidity using IQR technique"
   ]
  },
  {
   "cell_type": "code",
   "execution_count": 358,
   "id": "de5c2362",
   "metadata": {},
   "outputs": [],
   "source": [
    "o_cols = ['liquidity_copy']\n",
    "\n",
    "for i in o_cols:\n",
    "    Q1ss = df[i].quantile(0.25)\n",
    "    Q3ss = df[i].quantile(0.75)\n",
    "    IQRss = Q3ss - Q1ss\n",
    "    df = df[ ~ ((df[i] < (Q1ss -  1.5 * IQRss)) | (df[i] > (Q3ss + 1.5 * IQRss))) ]\n"
   ]
  },
  {
   "cell_type": "code",
   "execution_count": null,
   "id": "d26b3f21",
   "metadata": {},
   "outputs": [],
   "source": []
  },
  {
   "cell_type": "code",
   "execution_count": 359,
   "id": "474db82f",
   "metadata": {},
   "outputs": [
    {
     "data": {
      "text/plain": [
       "count    4.100000e+01\n",
       "mean     2.262753e+23\n",
       "std      4.314407e+23\n",
       "min      0.000000e+00\n",
       "25%      2.131926e+18\n",
       "50%      3.135210e+20\n",
       "75%      4.024925e+23\n",
       "max      2.084382e+24\n",
       "Name: liquidity_copy, dtype: float64"
      ]
     },
     "execution_count": 359,
     "metadata": {},
     "output_type": "execute_result"
    }
   ],
   "source": [
    "df['liquidity_copy'].describe()"
   ]
  },
  {
   "cell_type": "code",
   "execution_count": 360,
   "id": "dc85770d",
   "metadata": {},
   "outputs": [
    {
     "data": {
      "text/plain": [
       "<seaborn.axisgrid.FacetGrid at 0x2b43317a400>"
      ]
     },
     "execution_count": 360,
     "metadata": {},
     "output_type": "execute_result"
    },
    {
     "data": {
      "image/png": "[encoded data removed]",
      "text/plain": [
       "<Figure size 360x360 with 1 Axes>"
      ]
     },
     "metadata": {
      "needs_background": "light"
     },
     "output_type": "display_data"
    }
   ],
   "source": [
    "sns.displot( df['liquidity_copy'], kde = True, ax=ax)"
   ]
  },
  {
   "cell_type": "code",
   "execution_count": 361,
   "id": "d7916f1a",
   "metadata": {},
   "outputs": [
    {
     "data": {
      "text/plain": [
       "<AxesSubplot:xlabel='liquidity_copy', ylabel='count'>"
      ]
     },
     "execution_count": 361,
     "metadata": {},
     "output_type": "execute_result"
    },
    {
     "data": {
      "image/png": "[encoded data removed]",
      "text/plain": [
       "<Figure size 1368x360 with 1 Axes>"
      ]
     },
     "metadata": {
      "needs_background": "light"
     },
     "output_type": "display_data"
    }
   ],
   "source": [
    "fig, ax = plt.subplots(figsize=(19, 5))\n",
    "sns.countplot(df['liquidity_copy'], ax= ax)"
   ]
  },
  {
   "cell_type": "markdown",
   "id": "a6b9f6cd",
   "metadata": {},
   "source": [
    "Lets normalize this liquidity after outlier removal has been done once"
   ]
  },
  {
   "cell_type": "code",
   "execution_count": 362,
   "id": "be8a7099",
   "metadata": {},
   "outputs": [],
   "source": [
    "cols_to_norm = ['liquidity_copy']\n",
    "df[cols_to_norm] = StandardScaler().fit_transform(df[cols_to_norm])"
   ]
  },
  {
   "cell_type": "code",
   "execution_count": 363,
   "id": "cdc9f31a",
   "metadata": {},
   "outputs": [
    {
     "data": {
      "text/plain": [
       "<seaborn.axisgrid.FacetGrid at 0x2b43300b6d0>"
      ]
     },
     "execution_count": 363,
     "metadata": {},
     "output_type": "execute_result"
    },
    {
     "data": {
      "image/png": "[encoded data removed]",
      "text/plain": [
       "<Figure size 360x360 with 1 Axes>"
      ]
     },
     "metadata": {
      "needs_background": "light"
     },
     "output_type": "display_data"
    }
   ],
   "source": [
    "sns.displot( df['liquidity_copy'], kde = True, ax=ax)"
   ]
  },
  {
   "cell_type": "code",
   "execution_count": 368,
   "id": "644c4795",
   "metadata": {},
   "outputs": [
    {
     "data": {
      "text/plain": [
       "<AxesSubplot:xlabel='liquidity_copy', ylabel='count'>"
      ]
     },
     "execution_count": 368,
     "metadata": {},
     "output_type": "execute_result"
    },
    {
     "data": {
      "image/png": "[encoded data removed]",
      "text/plain": [
       "<Figure size 1296x360 with 1 Axes>"
      ]
     },
     "metadata": {
      "needs_background": "light"
     },
     "output_type": "display_data"
    }
   ],
   "source": [
    "fig, ax = plt.subplots(figsize=(18, 5))\n",
    "sns.countplot(round(df['liquidity_copy'],1), ax= ax)"
   ]
  },
  {
   "cell_type": "code",
   "execution_count": 387,
   "id": "761a764f",
   "metadata": {},
   "outputs": [],
   "source": [
    "df['liquidity_copy'] = round(df['liquidity_copy'],1)"
   ]
  },
  {
   "cell_type": "code",
   "execution_count": 389,
   "id": "ca6ebfbb",
   "metadata": {},
   "outputs": [
    {
     "data": {
      "text/plain": [
       "30"
      ]
     },
     "execution_count": 389,
     "metadata": {},
     "output_type": "execute_result"
    }
   ],
   "source": [
    "len(  df[ ( df['liquidity_copy'] >=-0.5) &  (df['liquidity_copy'] <=0.0)]) \n",
    "#otehr values have been deleted in outlier removal. 41 tick values left \n"
   ]
  },
  {
   "cell_type": "code",
   "execution_count": 390,
   "id": "7cb120a7",
   "metadata": {},
   "outputs": [
    {
     "data": {
      "text/plain": [
       "41"
      ]
     },
     "execution_count": 390,
     "metadata": {},
     "output_type": "execute_result"
    }
   ],
   "source": [
    "len(df)"
   ]
  },
  {
   "cell_type": "markdown",
   "id": "418ff7a2",
   "metadata": {},
   "source": [
    "Presuming AUM = ( price of token0 in USD * volume of token0 ) + ( price of token1 in USD * volume of token1)"
   ]
  },
  {
   "cell_type": "code",
   "execution_count": 209,
   "id": "88d8ceae",
   "metadata": {},
   "outputs": [
    {
     "name": "stdout",
     "output_type": "stream",
     "text": [
      "<class 'pandas.core.frame.DataFrame'>\n",
      "Int64Index: 41 entries, 1 to 52\n",
      "Data columns (total 29 columns):\n",
      " #   Column                  Non-Null Count  Dtype  \n",
      "---  ------                  --------------  -----  \n",
      " 0   id                      41 non-null     object \n",
      " 1   feeTier                 41 non-null     float64\n",
      " 2   liquidity               41 non-null     float64\n",
      " 3   sqrtPrice               41 non-null     object \n",
      " 4   tick                    41 non-null     float64\n",
      " 5   t0_id                   41 non-null     object \n",
      " 6   t0_symbol               41 non-null     object \n",
      " 7   t0_name                 41 non-null     object \n",
      " 8   t0_decimals             41 non-null     object \n",
      " 9   t0_derivedETH           41 non-null     object \n",
      " 10  t0_typename             41 non-null     object \n",
      " 11  t1_id                   41 non-null     object \n",
      " 12  t1_symbol               41 non-null     object \n",
      " 13  t1_name                 41 non-null     object \n",
      " 14  t1_derivedETH           41 non-null     object \n",
      " 15  t1_decimals             41 non-null     object \n",
      " 16  t1_typename             41 non-null     object \n",
      " 17  token0Price             41 non-null     float64\n",
      " 18  token1Price             41 non-null     object \n",
      " 19  volumeUSD               41 non-null     float64\n",
      " 20  volumeToken0            41 non-null     float64\n",
      " 21  volumeToken1            41 non-null     float64\n",
      " 22  txCount                 41 non-null     float64\n",
      " 23  totalValueLockedToken0  41 non-null     float64\n",
      " 24  totalValueLockedToken1  41 non-null     float64\n",
      " 25  totalValueLockedUSD     41 non-null     float64\n",
      " 26  __typename              41 non-null     object \n",
      " 27  tick_price              41 non-null     float64\n",
      " 28  liquidity_copy          41 non-null     float64\n",
      "dtypes: float64(13), object(16)\n",
      "memory usage: 9.6+ KB\n"
     ]
    }
   ],
   "source": [
    "df.info()"
   ]
  },
  {
   "cell_type": "code",
   "execution_count": null,
   "id": "cb90d71b",
   "metadata": {},
   "outputs": [],
   "source": []
  },
  {
   "cell_type": "code",
   "execution_count": 210,
   "id": "cca0e453",
   "metadata": {},
   "outputs": [
    {
     "data": {
      "text/plain": [
       "str"
      ]
     },
     "execution_count": 210,
     "metadata": {},
     "output_type": "execute_result"
    }
   ],
   "source": [
    "type(df['token1Price'].iloc[0])"
   ]
  },
  {
   "cell_type": "code",
   "execution_count": 211,
   "id": "58aa2249",
   "metadata": {},
   "outputs": [],
   "source": [
    "df['token1Price'] = df['token1Price'].astype(float)"
   ]
  },
  {
   "cell_type": "code",
   "execution_count": 212,
   "id": "e5401a7d",
   "metadata": {},
   "outputs": [],
   "source": [
    "df['t1_derivedETH'] = df['t1_derivedETH'].astype(float)"
   ]
  },
  {
   "cell_type": "code",
   "execution_count": 213,
   "id": "1d5b49be",
   "metadata": {},
   "outputs": [],
   "source": [
    "AUM1 = (((df['token0Price'] * df['volumeToken0']) )) .sum()"
   ]
  },
  {
   "cell_type": "code",
   "execution_count": null,
   "id": "630924b7",
   "metadata": {},
   "outputs": [],
   "source": []
  },
  {
   "cell_type": "code",
   "execution_count": 214,
   "id": "eaf86e8b",
   "metadata": {},
   "outputs": [],
   "source": [
    "AUM2 = (((df['token1Price'] * df['volumeToken1']) )) .sum()"
   ]
  },
  {
   "cell_type": "code",
   "execution_count": 215,
   "id": "beda9012",
   "metadata": {},
   "outputs": [],
   "source": [
    "AUM = AUM1 + AUM2"
   ]
  },
  {
   "cell_type": "code",
   "execution_count": 216,
   "id": "a8c205d2",
   "metadata": {},
   "outputs": [
    {
     "data": {
      "text/plain": [
       "3.4818756059589395e+38"
      ]
     },
     "execution_count": 216,
     "metadata": {},
     "output_type": "execute_result"
    }
   ],
   "source": [
    "AUM"
   ]
  },
  {
   "cell_type": "code",
   "execution_count": 217,
   "id": "0335b78e",
   "metadata": {},
   "outputs": [
    {
     "data": {
      "text/plain": [
       "1127298526554.526"
      ]
     },
     "execution_count": 217,
     "metadata": {},
     "output_type": "execute_result"
    }
   ],
   "source": [
    "Valued_Locked_Sum"
   ]
  },
  {
   "cell_type": "code",
   "execution_count": 218,
   "id": "cb238473",
   "metadata": {},
   "outputs": [
    {
     "data": {
      "text/plain": [
       "False"
      ]
     },
     "execution_count": 218,
     "metadata": {},
     "output_type": "execute_result"
    }
   ],
   "source": [
    "AUM == Valued_Locked_Sum"
   ]
  },
  {
   "cell_type": "markdown",
   "id": "df214b8e",
   "metadata": {},
   "source": [
    "Cannot prove AUM = Total Value Locked because exact formula of AUM not known"
   ]
  },
  {
   "cell_type": "markdown",
   "id": "e720bfbf",
   "metadata": {},
   "source": []
  },
  {
   "cell_type": "code",
   "execution_count": null,
   "id": "e94bc2fe",
   "metadata": {},
   "outputs": [],
   "source": []
  }
 ],
 "metadata": {
  "kernelspec": {
   "display_name": "Python 3 (ipykernel)",
   "language": "python",
   "name": "python3"
  },
  "language_info": {
   "codemirror_mode": {
    "name": "ipython",
    "version": 3
   },
   "file_extension": ".py",
   "mimetype": "text/x-python",
   "name": "python",
   "nbconvert_exporter": "python",
   "pygments_lexer": "ipython3",
   "version": "3.9.12"
  }
 },
 "nbformat": 4,
 "nbformat_minor": 5
}
